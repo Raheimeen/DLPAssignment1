{
 "cells": [
  {
   "cell_type": "markdown",
   "metadata": {},
   "source": [
    "**TASK 3 File**"
   ]
  },
  {
   "cell_type": "code",
   "execution_count": null,
   "metadata": {},
   "outputs": [],
   "source": [
    "import numpy as np\n",
    "import matplotlib.pyplot as plt\n",
    "from sklearn.model_selection import train_test_split\n",
    "from sklearn.metrics import precision_score, recall_score, f1_score, accuracy_score, confusion_matrix\n",
    "import tensorflow as tf  \n",
    "import pandas as pd"
   ]
  },
  {
   "cell_type": "code",
   "execution_count": null,
   "metadata": {},
   "outputs": [],
   "source": [
    "import cv2\n",
    "import numpy as np\n",
    "import matplotlib.pyplot as plt\n",
    "path = 'D:/img/cricket.jpg'\n",
    "img = cv2.imread(path, cv2.IMREAD_COLOR)\n",
    "gray = cv2.cvtColor(img, cv2.COLOR_BGR2GRAY)\n",
    "\n",
    "# Load the cascade\n",
    "face_cascade = cv2.CascadeClassifier('models/haarcascade_frontalface_default.xml')\n",
    "# Detect faces\n",
    "faces = face_cascade.detectMultiScale(gray, 1.1, 4)\n",
    "# Draw rectangle around the faces\n",
    "for (x, y, w, h) in faces:\n",
    "    cv2.rectangle(img, (x, y), (x + w, y + h), (0, 0, 255), 3)\n",
    "\n",
    "fig, axs = plt.subplots(1,1)\n",
    "rgb = cv2.cvtColor(img,cv2.COLOR_BGR2RGB)\n",
    "axs.imshow(rgb)\n",
    "axs.axis('off')\n",
    "axs.set_title('Detected Faces',fontsize='medium')\n"
   ]
  },
  {
   "cell_type": "code",
   "execution_count": null,
   "metadata": {},
   "outputs": [],
   "source": [
    "import os\n",
    "\n",
    "# Load and preprocess the data\n",
    "data = []  # List to store image data\n",
    "labels = []  # List to store labels\n",
    "\n",
    "# Define a function to extract the person label from the file name\n",
    "def extract_person_label(file_name):\n",
    "    return int(file_name.split('.')[0].replace('subject', '')) - 1  # Subtract 1 to make labels start from 0\n",
    "\n",
    "# Load data and labels\n",
    "# Assuming the dataset files are in the 'dataset' directory\n",
    "dataset_dir = 'D:/FAST_NUCES/7thSemester/DLP/Assignment/Assignment1/Dataset/yale'\n",
    "\n",
    "for file_name in os.listdir(dataset_dir):\n",
    "    img = plt.imread(os.path.join(dataset_dir, file_name))\n",
    "    # print(img.shape)\n",
    "    data.append(img.flatten())  # Flatten image into a 1D array\n",
    "    labels.append(extract_person_label(file_name))\n",
    "\n",
    "data = np.array(data)\n",
    "labels = np.array(labels)\n",
    "\n",
    "# Split the data into training and testing sets\n",
    "X_train, X_test, y_train, y_test = train_test_split(data, labels, test_size=0.2, random_state=42)\n"
   ]
  },
  {
   "cell_type": "code",
   "execution_count": null,
   "metadata": {},
   "outputs": [],
   "source": []
  }
 ],
 "metadata": {
  "kernelspec": {
   "display_name": "base",
   "language": "python",
   "name": "python3"
  },
  "language_info": {
   "name": "python",
   "version": "3.9.13"
  },
  "orig_nbformat": 4
 },
 "nbformat": 4,
 "nbformat_minor": 2
}
